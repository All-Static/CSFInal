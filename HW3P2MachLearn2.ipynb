{
 "cells": [
  {
   "cell_type": "code",
   "execution_count": null,
   "metadata": {},
   "outputs": [],
   "source": []
  },
  {
   "cell_type": "code",
   "execution_count": 1,
   "metadata": {},
   "outputs": [],
   "source": [
    "# 1) \"Sequential\" models let us define a stack of neural network layers\n",
    "from keras.models import Sequential\n",
    "from  keras.wrappers.scikit_learn  import  KerasClassifier\n",
    "from  sklearn.model_selection  import  GridSearchCV\n",
    "# import the core layers:\n",
    "from keras.layers import Dense, Dropout, Activation, Flatten\n",
    "\n",
    "import numpy as np\n",
    "\n",
    "# Importing libraries and packages:\n",
    "from sklearn.ensemble import RandomForestClassifier, VotingClassifier\n",
    "\n",
    "from sklearn.linear_model import LogisticRegression\n",
    "from sklearn.cluster import KMeans\n",
    "from sklearn.model_selection import train_test_split\n",
    "from sklearn.metrics import accuracy_score\n",
    "from sklearn.utils import resample\n",
    "from sklearn.model_selection import cross_val_score\n",
    "from sklearn.tree import DecisionTreeClassifier\n",
    "from sklearn import metrics\n",
    "import matplotlib.pyplot as plt\n",
    "import numpy as np\n",
    "import pandas as pd\n",
    "import matplotlib.image as mpimg\n",
    "import os\n",
    "import matplotlib.pyplot as plt\n",
    "import cv2\n",
    "# numpy and pandas libraries\n",
    "import numpy as np\n",
    "import pandas as pd\n",
    "from sklearn.metrics import confusion_matrix\n",
    "# 1) \"Sequential\" models let us define a stack of neural network layers\n",
    "from keras.models import Sequential\n",
    "from sklearn.neural_network import MLPClassifier\n",
    "from  keras.wrappers.scikit_learn  import  KerasClassifier\n",
    "from  sklearn.model_selection  import  GridSearchCV\n",
    "# import the core layers:\n",
    "from keras.layers import Dense, Dropout, Activation, Flatten\n",
    "\n",
    "# our classifiers\n",
    "from sklearn.ensemble import RandomForestClassifier\n",
    "from sklearn.tree import DecisionTreeClassifier\n",
    "from sklearn.neighbors import KNeighborsClassifier\n",
    "# for splitting the dataset\n",
    "from sklearn.model_selection import train_test_split\n",
    "from sklearn import preprocessing\n",
    "\n",
    "# for getting accuracy of our classifiers\n",
    "from sklearn.metrics import accuracy_score\n",
    "from keras.utils import np_utils\n",
    "\n",
    "import matplotlib.image as mpimg\n",
    "import matplotlib.pyplot as plt\n",
    "\n",
    "import matplotlib.patches as patches"
   ]
  },
  {
   "cell_type": "code",
   "execution_count": 2,
   "metadata": {},
   "outputs": [],
   "source": [
    "# import some utilities to transform/preprocess our data:\n",
    "\n",
    "from keras.utils import np_utils"
   ]
  },
  {
   "cell_type": "markdown",
   "metadata": {},
   "source": []
  },
  {
   "cell_type": "code",
   "execution_count": 3,
   "metadata": {},
   "outputs": [
    {
     "name": "stdout",
     "output_type": "stream",
     "text": [
      "(400,)\n",
      "(400, 64, 64)\n"
     ]
    },
    {
     "data": {
      "text/plain": [
       "<matplotlib.image.AxesImage at 0x210bf346460>"
      ]
     },
     "execution_count": 3,
     "metadata": {},
     "output_type": "execute_result"
    },
    {
     "data": {
      "image/png": "[encoded data removed]",
      "text/plain": [
       "<Figure size 432x288 with 1 Axes>"
      ]
     },
     "metadata": {
      "needs_background": "light"
     },
     "output_type": "display_data"
    }
   ],
   "source": [
    "#a)\n",
    "\n",
    "train_labels=pd.read_csv(r'C:\\Users\\Steven\\OneDrive - Cal State LA\\Miscellaneous\\Junk\\Junk\\Desktop\\Face\\label.csv') \n",
    "\n",
    "y = train_labels['Label']\n",
    "print(y.shape)\n",
    "i=0\n",
    "img=[]\n",
    "while i<400:\n",
    "    img.append(mpimg.imread(f'C:\\\\Users\\\\Steven\\\\OneDrive - Cal State LA\\\\Miscellaneous\\\\Junk\\\\Junk\\\\Desktop\\\\Face\\\\{i}.jpg'))\n",
    "    i=i+1\n",
    "img=np.array(img)\n",
    "print(np.array(img).shape)\n",
    "plt.imshow(img[2], cmap=plt.cm.gray)"
   ]
  },
  {
   "cell_type": "code",
   "execution_count": 4,
   "metadata": {},
   "outputs": [
    {
     "name": "stdout",
     "output_type": "stream",
     "text": [
      "(400, 64, 64)\n"
     ]
    }
   ],
   "source": [
    "#b\n",
    "X=img.reshape(img.shape[0], 4096)\n",
    "print(img.shape)"
   ]
  },
  {
   "cell_type": "code",
   "execution_count": 5,
   "metadata": {},
   "outputs": [
    {
     "name": "stdout",
     "output_type": "stream",
     "text": [
      "(400, 4096)\n",
      "[[ 1.37649641  1.11885303  0.79610373 ... -1.17094622 -1.24726506\n",
      "  -1.21711982]\n",
      " [ 1.68113398  1.3654141   1.03570156 ...  0.68710075  1.48558299\n",
      "   1.58234648]\n",
      " [-0.31593455 -0.59063704 -0.75329558 ...  1.84210291  1.84204144\n",
      "   1.13304942]\n",
      " ...\n",
      " [ 0.98723729  1.02022861  1.01972837 ... -0.58507555 -0.48342554\n",
      "  -0.38764832]\n",
      " [ 0.68259971  0.52710647  0.34885444 ...  0.88797069  0.63687242\n",
      "   0.71831368]\n",
      " [-0.231313   -0.67282406 -1.0088666  ... -0.06616154 -0.55132239\n",
      "  -0.50861291]]\n"
     ]
    }
   ],
   "source": [
    "\n",
    "#c\n",
    "X=preprocessing.scale(X)\n",
    "X\n",
    "print(X.shape)\n",
    "print(X)"
   ]
  },
  {
   "cell_type": "code",
   "execution_count": 6,
   "metadata": {},
   "outputs": [
    {
     "name": "stdout",
     "output_type": "stream",
     "text": [
      "[[186 183 179 ...  25  63  71]\n",
      " [183 183 181 ...  31  34  68]\n",
      " [179 184 185 ...  48   9  59]\n",
      " ...\n",
      " [ 32  27  23 ...   3   3   4]\n",
      " [ 26  28  24 ...   5   2   4]\n",
      " [ 18  29  33 ...   9   3   5]]\n"
     ]
    }
   ],
   "source": [
    "print(img[0,:])"
   ]
  },
  {
   "cell_type": "code",
   "execution_count": 7,
   "metadata": {},
   "outputs": [
    {
     "name": "stdout",
     "output_type": "stream",
     "text": [
      "[[ 0.75029695  0.60929349  0.39677401 ...  1.33992806  0.9084598\n",
      "   1.4959432 ]\n",
      " [ 0.03947595 -0.04820269  0.01341748 ...  0.73731823  0.9084598\n",
      "   1.20217205]\n",
      " [-0.7559666  -0.8043233  -1.1526253  ...  0.51970913  0.77266611\n",
      "   1.13304942]\n",
      " ...\n",
      " [ 0.07332457  0.49423166  0.84402329 ... -0.6520322  -0.5682966\n",
      "  -0.54317422]\n",
      " [-0.31593455 -0.14682712 -0.1622876  ... -1.28812035 -1.24726506\n",
      "  -1.21711982]\n",
      " [ 0.71644833  0.46135685  0.28496169 ... -0.25029232 -0.19486395\n",
      "  -0.16299979]]\n",
      "82      5\n",
      "367    33\n",
      "179    39\n",
      "27      1\n",
      "89     32\n",
      "       ..\n",
      "255    20\n",
      "72      6\n",
      "396    19\n",
      "235    16\n",
      "37     17\n",
      "Name: Label, Length: 300, dtype: int64\n"
     ]
    }
   ],
   "source": [
    "X_train, X_test, y_train, y_test = train_test_split(X, y, test_size=.25, random_state=1)\n",
    "print(X_train)\n",
    "print(y_train)"
   ]
  },
  {
   "cell_type": "code",
   "execution_count": 8,
   "metadata": {},
   "outputs": [],
   "source": [
    "from  sklearn.decomposition  import  PCA\n",
    "\n",
    "k = 50  #  k  is the number of components (new features) after dimensionality reduction\n",
    "\n",
    "my_pca = PCA(n_components = k)\n",
    "\n",
    "# X_Train is feature matrix of training set before dimensionality reduction, \n",
    "\n",
    "# X_Train_New is feature matrix of training set after dimensionality reduction:\n",
    "\n",
    "X_train_new = my_pca. fit_transform(X_train)\n",
    "\n",
    "X_test_new = my_pca. transform(X_test)\n",
    "\n",
    "\n",
    "\n",
    "\n",
    "\n"
   ]
  },
  {
   "cell_type": "code",
   "execution_count": 10,
   "metadata": {},
   "outputs": [
    {
     "name": "stdout",
     "output_type": "stream",
     "text": [
      "Accuracy: 0.83\n"
     ]
    }
   ],
   "source": [
    "from sklearn import svm\n",
    "\n",
    "\n",
    "clf=svm.SVC(C=1, kernel='rbf', gamma=0.0005, random_state=1)\n",
    "\n",
    "#Train the model using the training sets\n",
    "clf.fit(X_train_new, y_train)\n",
    "\n",
    "#Predict the response for test dataset\n",
    "y_pred = clf.predict(X_test_new)\n",
    "print(\"Accuracy:\",metrics.accuracy_score(y_test, y_pred))"
   ]
  },
  {
   "cell_type": "code",
   "execution_count": 11,
   "metadata": {},
   "outputs": [
    {
     "data": {
      "text/plain": [
       "array([[4, 0, 0, ..., 1, 0, 0],\n",
       "       [0, 4, 0, ..., 0, 0, 0],\n",
       "       [0, 0, 1, ..., 0, 0, 0],\n",
       "       ...,\n",
       "       [0, 0, 0, ..., 1, 0, 0],\n",
       "       [0, 0, 0, ..., 0, 1, 0],\n",
       "       [0, 0, 0, ..., 1, 0, 1]], dtype=int64)"
      ]
     },
     "execution_count": 11,
     "metadata": {},
     "output_type": "execute_result"
    }
   ],
   "source": [
    "confusion_matrix(y_test, y_pred)"
   ]
  },
  {
   "cell_type": "code",
   "execution_count": 15,
   "metadata": {},
   "outputs": [
    {
     "name": "stdout",
     "output_type": "stream",
     "text": [
      "SVC(C=10)\n"
     ]
    }
   ],
   "source": [
    "#g)\n",
    "\n",
    "from sklearn.model_selection import GridSearchCV\n",
    " \n",
    "# defining parameter range\n",
    "param_grid = {'C': [0.1, 1, 10, 100, 1000,5e3,1e4,5e4,1e5],\n",
    "              'kernel': ['rbf']}\n",
    "\n",
    "X_normalized_pca = my_pca.fit_transform(X)\n",
    "\n",
    "grid = GridSearchCV(svm.SVC(), param_grid, cv=10)\n",
    " \n",
    "# fitting the model for grid search\n",
    "grid.fit(X_normalized_pca, y)\n",
    "\n",
    "\n",
    "\n",
    "\n",
    "\n",
    "print(grid.best_estimator_)"
   ]
  },
  {
   "cell_type": "code",
   "execution_count": null,
   "metadata": {},
   "outputs": [],
   "source": []
  },
  {
   "cell_type": "code",
   "execution_count": null,
   "metadata": {},
   "outputs": [],
   "source": []
  },
  {
   "cell_type": "code",
   "execution_count": null,
   "metadata": {},
   "outputs": [],
   "source": []
  },
  {
   "cell_type": "code",
   "execution_count": null,
   "metadata": {},
   "outputs": [],
   "source": []
  },
  {
   "cell_type": "code",
   "execution_count": null,
   "metadata": {},
   "outputs": [],
   "source": []
  },
  {
   "cell_type": "code",
   "execution_count": null,
   "metadata": {},
   "outputs": [],
   "source": []
  },
  {
   "cell_type": "code",
   "execution_count": null,
   "metadata": {},
   "outputs": [],
   "source": []
  },
  {
   "cell_type": "code",
   "execution_count": null,
   "metadata": {},
   "outputs": [],
   "source": []
  },
  {
   "cell_type": "code",
   "execution_count": null,
   "metadata": {
    "scrolled": false
   },
   "outputs": [],
   "source": [
    " "
   ]
  },
  {
   "cell_type": "code",
   "execution_count": null,
   "metadata": {},
   "outputs": [],
   "source": []
  },
  {
   "cell_type": "code",
   "execution_count": null,
   "metadata": {},
   "outputs": [],
   "source": []
  },
  {
   "cell_type": "code",
   "execution_count": null,
   "metadata": {},
   "outputs": [],
   "source": []
  },
  {
   "cell_type": "code",
   "execution_count": null,
   "metadata": {},
   "outputs": [],
   "source": []
  },
  {
   "cell_type": "code",
   "execution_count": null,
   "metadata": {},
   "outputs": [],
   "source": []
  }
 ],
 "metadata": {
  "kernelspec": {
   "display_name": "Python 3 (ipykernel)",
   "language": "python",
   "name": "python3"
  },
  "language_info": {
   "codemirror_mode": {
    "name": "ipython",
    "version": 3
   },
   "file_extension": ".py",
   "mimetype": "text/x-python",
   "name": "python",
   "nbconvert_exporter": "python",
   "pygments_lexer": "ipython3",
   "version": "3.9.7"
  }
 },
 "nbformat": 4,
 "nbformat_minor": 2
}
